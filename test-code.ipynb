{
 "cells": [
  {
   "cell_type": "code",
   "execution_count": 14,
   "metadata": {
    "scrolled": true
   },
   "outputs": [
    {
     "name": "stderr",
     "output_type": "stream",
     "text": [
      "WARNING:param.panel_extension: A HoloViz extension was loaded previously. This means the extension is already initialized and the following Panel extensions could not be properly loaded: ['plotly']. If you are loading custom extensions with pn.extension(...) ensure that this is called before any other HoloViz extension such as hvPlot or HoloViews.\n"
     ]
    },
    {
     "data": {
      "text/plain": [
       "True"
      ]
     },
     "execution_count": 14,
     "metadata": {},
     "output_type": "execute_result"
    }
   ],
   "source": [
    "from dotenv import load_dotenv\n",
    "import os\n",
    "import pandas as pd\n",
    "import coinmarketcapapi\n",
    "from coinmarketcapapi import CoinMarketCapAPI\n",
    "import matplotlib.pyplot as plt\n",
    "import hvplot.pandas\n",
    "import plotly.express as px\n",
    "import panel as pn\n",
    "import ccxt\n",
    "from datetime import datetime as dt\n",
    "pn.extension('plotly')\n",
    "load_dotenv()"
   ]
  },
  {
   "cell_type": "code",
   "execution_count": 15,
   "metadata": {},
   "outputs": [
    {
     "name": "stdout",
     "output_type": "stream",
     "text": [
      "Hello, What is your name? \n",
      "Hi! \n",
      "Welcome to our Crypto data set.\n",
      "Amongst our research and investing in both the stock market and crypto markets, we seek to find a patern of liquidity flow within crypto exchanges during times of volatility.\n",
      "Are you familar with crypto currency either through personal means or media?\n",
      "Are you currently or have you invested in crypto currency?\n",
      "Welcome  We hope the data we chart can help both current investors and anyone interested in either learning more about crypto exchange flow or investing themeselves. Enjoy our exchange flow data\n"
     ]
    }
   ],
   "source": [
    "name = input(\"Hello, What is your name? \") \n",
    "print(\"Hi!\", name) \n",
    "print(\"Welcome to our Crypto data set.\") \n",
    "print(\"Amongst our research and investing in both the stock market and crypto markets, \\\n",
    "we seek to find a patern of liquidity flow within crypto exchanges during \\\n",
    "times of volatility.\") \n",
    "answer = input(\"Are you familar with crypto currency either through personal means or media?\")\n",
    "if answer == \"Yes\" or \"yes\": \n",
    "    input(\"Are you currently or have you invested in crypto currency?\") \n",
    "if answer == \"Yes\" or \"yes\": \n",
    "    print(\"Welcome\", name + \" We hope the data we chart can help both current investors and anyone interested in either \\\n",
    "learning more about crypto exchange flow or investing themeselves. Enjoy our exchange flow data\")\n",
    "elif answer == \"No\" or \"no\": \n",
    "    print(\"Welcome\", name + \" We hope the data we chart can help both current investors and anyone interested in either \\\n",
    "learning more about crypto exchange flow or investing themeselves. Enjoy exchange flow data\" )"
   ]
  },
  {
   "cell_type": "code",
   "execution_count": 16,
   "metadata": {
    "scrolled": true
   },
   "outputs": [],
   "source": [
    "#Coin Market Cap API\n",
    "cmc_api = os.getenv('CMC_API_KEY')\n",
    "cmc = CoinMarketCapAPI(cmc_api)\n",
    "global_quote = cmc.globalmetrics_quotes_latest()\n",
    "global_df = pd.DataFrame(global_quote.data)"
   ]
  },
  {
   "cell_type": "code",
   "execution_count": 53,
   "metadata": {},
   "outputs": [],
   "source": [
    "#Data Map ID CMC\n",
    "data_id_map = cmc.cryptocurrency_map()\n",
    "data_idmap = pd.DataFrame(data_id_map.data)\n",
    "data_idmap_df = data_idmap.set_index('rank')\n",
    "idmap_data = data_idmap_df.sort_index(ascending=True)\n",
    "#Current Price for BTC,ETH,ADA\n",
    "eth_data_quote = cmc.cryptocurrency_quotes_latest(symbol='ETH', convert='USD')\n",
    "btc_data_quote = cmc.cryptocurrency_quotes_latest(symbol='BTC', convert='USD')\n",
    "doge_data_quote = cmc.cryptocurrency_quotes_latest(symbol='DOGE', convert='USD')\n",
    "ada_data_quote = cmc.cryptocurrency_quotes_latest(symbol='ADA', convert='USD')\n",
    "eth_data_quote_df = pd.DataFrame(eth_data_quote.data)\n",
    "btc_data_quote_df = pd.DataFrame(btc_data_quote.data)\n",
    "doge_data_quote_df = pd.DataFrame(doge_data_quote.data)\n",
    "ada_data_quote_df = pd.DataFrame(ada_data_quote.data)\n",
    "eth_df = eth_data_quote_df.T\n",
    "btc_df = btc_data_quote_df.T\n",
    "doge_df = doge_data_quote_df.T\n",
    "ada_df = ada_data_quote_df.T"
   ]
  },
  {
   "cell_type": "code",
   "execution_count": 18,
   "metadata": {
    "scrolled": true
   },
   "outputs": [],
   "source": [
    "#Current Price for BTC,ETH,DOGE,ADA\n",
    "eth_current_price = eth_df['quote']['ETH']['USD']['price']\n",
    "btc_current_price = btc_df['quote']['BTC']['USD']['price']\n",
    "doge_current_price = doge_df['quote']['DOGE']['USD']['price']\n",
    "ada_current_price = ada_df['quote']['ADA']['USD']['price']"
   ]
  },
  {
   "cell_type": "code",
   "execution_count": 19,
   "metadata": {},
   "outputs": [],
   "source": [
    "btc_dom= global_df['btc_dominance']\n",
    "stablecoin_mktcap= global_df['stablecoin_market_cap']\n",
    "deriv_pctchange= global_df['derivatives_24h_percentage_change']\n",
    "total_market_cap =global_df['quote']['USD']['total_market_cap']\n",
    "altcoin_mktcap = global_df['quote']['USD']['altcoin_market_cap']\n",
    "last_updated = global_df['quote']['USD']['last_updated']"
   ]
  },
  {
   "cell_type": "code",
   "execution_count": 20,
   "metadata": {},
   "outputs": [
    {
     "name": "stdout",
     "output_type": "stream",
     "text": [
      "Kraken key data type: <class 'str'>\n",
      "Kraken secren data type: <class 'str'>\n"
     ]
    }
   ],
   "source": [
    "#CCXT KRAKEN API\n",
    "# Import environment variables\n",
    "kraken_public_key = os.getenv(\"KRAKEN_API_KEY\")\n",
    "kraken_secret_key = os.getenv(\"KRAKEN_PRIVATE_KEY\")\n",
    "\n",
    "# Verify that environment variables were loaded\n",
    "print(f\"Kraken key data type: {type(kraken_public_key)}\")\n",
    "print(f\"Kraken secren data type: {type(kraken_secret_key)}\")\n",
    "\n",
    "# Set the public and private keys for the API\n",
    "exchange = ccxt.kraken({\n",
    "    'apiKey': kraken_public_key,\n",
    "    'secret': kraken_secret_key,\n",
    "})\n",
    "\n",
    "# Connect to Kraken and load the available cryptocurrencies\n",
    "crypto_details = exchange.load_markets()\n",
    "\n",
    "# Import data as a Pandas DataFrame\n",
    "crypto_df = pd.DataFrame(crypto_details)\n"
   ]
  },
  {
   "cell_type": "code",
   "execution_count": 57,
   "metadata": {},
   "outputs": [],
   "source": [
    "# BTC Historical Prices\n",
    "btc_historical_prices = exchange.fetch_ohlcv(\"BTC/USD\", \"1d\")\n",
    "btc_historical_prices_df = pd.DataFrame(\n",
    "    btc_historical_prices, columns=[\"timestamp\", \"open\", \"high\", \"low\", \"close\", \"volume\"]\n",
    ")\n",
    "btc_historical_prices_df['Date'] = pd.to_datetime(btc_historical_prices_df['timestamp'], unit='ms')\n",
    "btc_historical_prices_df['btc vol'] = btc_historical_prices_df['volume']\n",
    "btc_hist_prices_df =btc_historical_prices_df.drop(columns=['timestamp','open','high','low','volume'])\n",
    "btc_price = btc_hist_prices_df.set_index('Date')\n",
    "btc_price_crash1 = btc_price.loc['2021-05-19']\n",
    "btc_price_crash2 = btc_price.loc['2021-05-23']\n",
    "btc_price_crash3 = btc_price.loc['2019-06-26':'2020-12-03']\n"
   ]
  },
  {
   "cell_type": "code",
   "execution_count": 75,
   "metadata": {},
   "outputs": [
    {
     "data": {
      "text/html": [
       "<div>\n",
       "<style scoped>\n",
       "    .dataframe tbody tr th:only-of-type {\n",
       "        vertical-align: middle;\n",
       "    }\n",
       "\n",
       "    .dataframe tbody tr th {\n",
       "        vertical-align: top;\n",
       "    }\n",
       "\n",
       "    .dataframe thead th {\n",
       "        text-align: right;\n",
       "    }\n",
       "</style>\n",
       "<table border=\"1\" class=\"dataframe\">\n",
       "  <thead>\n",
       "    <tr style=\"text-align: right;\">\n",
       "      <th></th>\n",
       "      <th>close</th>\n",
       "      <th>eth vol</th>\n",
       "    </tr>\n",
       "    <tr>\n",
       "      <th>Date</th>\n",
       "      <th></th>\n",
       "      <th></th>\n",
       "    </tr>\n",
       "  </thead>\n",
       "  <tbody>\n",
       "    <tr>\n",
       "      <th>2021-06-05</th>\n",
       "      <td>2627.81</td>\n",
       "      <td>102221.097418</td>\n",
       "    </tr>\n",
       "    <tr>\n",
       "      <th>2021-06-06</th>\n",
       "      <td>2712.03</td>\n",
       "      <td>66369.482687</td>\n",
       "    </tr>\n",
       "    <tr>\n",
       "      <th>2021-06-07</th>\n",
       "      <td>2593.69</td>\n",
       "      <td>109688.590190</td>\n",
       "    </tr>\n",
       "    <tr>\n",
       "      <th>2021-06-08</th>\n",
       "      <td>2509.56</td>\n",
       "      <td>135382.838673</td>\n",
       "    </tr>\n",
       "    <tr>\n",
       "      <th>2021-06-09</th>\n",
       "      <td>2435.00</td>\n",
       "      <td>10440.419130</td>\n",
       "    </tr>\n",
       "  </tbody>\n",
       "</table>\n",
       "</div>"
      ],
      "text/plain": [
       "              close        eth vol\n",
       "Date                              \n",
       "2021-06-05  2627.81  102221.097418\n",
       "2021-06-06  2712.03   66369.482687\n",
       "2021-06-07  2593.69  109688.590190\n",
       "2021-06-08  2509.56  135382.838673\n",
       "2021-06-09  2435.00   10440.419130"
      ]
     },
     "execution_count": 75,
     "metadata": {},
     "output_type": "execute_result"
    }
   ],
   "source": [
    "#ETH Historical Prices\n",
    "eth_historical_prices = exchange.fetch_ohlcv(\"ETH/USD\", \"1d\")\n",
    "eth_historical_prices_df = pd.DataFrame(\n",
    "    eth_historical_prices, columns=[\"timestamp\", \"open\", \"high\", \"low\", \"close\", \"volume\"]\n",
    ")\n",
    "eth_historical_prices_df['Date'] = pd.to_datetime(eth_historical_prices_df['timestamp'], unit='ms')\n",
    "eth_historical_prices_df['eth vol'] = eth_historical_prices_df['volume']\n",
    "eth_hist_prices_df = eth_historical_prices_df.drop(columns=['timestamp','open','high','low','volume'])\n",
    "eth_price = eth_hist_prices_df.set_index('Date')\n",
    "eth_price.tail()"
   ]
  },
  {
   "cell_type": "code",
   "execution_count": 73,
   "metadata": {},
   "outputs": [
    {
     "data": {
      "text/html": [
       "<div>\n",
       "<style scoped>\n",
       "    .dataframe tbody tr th:only-of-type {\n",
       "        vertical-align: middle;\n",
       "    }\n",
       "\n",
       "    .dataframe tbody tr th {\n",
       "        vertical-align: top;\n",
       "    }\n",
       "\n",
       "    .dataframe thead th {\n",
       "        text-align: right;\n",
       "    }\n",
       "</style>\n",
       "<table border=\"1\" class=\"dataframe\">\n",
       "  <thead>\n",
       "    <tr style=\"text-align: right;\">\n",
       "      <th></th>\n",
       "      <th>close</th>\n",
       "      <th>doge vol</th>\n",
       "    </tr>\n",
       "    <tr>\n",
       "      <th>Date</th>\n",
       "      <th></th>\n",
       "      <th></th>\n",
       "    </tr>\n",
       "  </thead>\n",
       "  <tbody>\n",
       "    <tr>\n",
       "      <th>2019-12-19</th>\n",
       "      <td>0.002500</td>\n",
       "      <td>1.665000e+04</td>\n",
       "    </tr>\n",
       "    <tr>\n",
       "      <th>2019-12-20</th>\n",
       "      <td>0.002020</td>\n",
       "      <td>6.796013e+05</td>\n",
       "    </tr>\n",
       "    <tr>\n",
       "      <th>2019-12-21</th>\n",
       "      <td>0.002100</td>\n",
       "      <td>7.484094e+05</td>\n",
       "    </tr>\n",
       "    <tr>\n",
       "      <th>2019-12-22</th>\n",
       "      <td>0.002085</td>\n",
       "      <td>1.614581e+06</td>\n",
       "    </tr>\n",
       "    <tr>\n",
       "      <th>2019-12-23</th>\n",
       "      <td>0.002232</td>\n",
       "      <td>1.616856e+05</td>\n",
       "    </tr>\n",
       "  </tbody>\n",
       "</table>\n",
       "</div>"
      ],
      "text/plain": [
       "               close      doge vol\n",
       "Date                              \n",
       "2019-12-19  0.002500  1.665000e+04\n",
       "2019-12-20  0.002020  6.796013e+05\n",
       "2019-12-21  0.002100  7.484094e+05\n",
       "2019-12-22  0.002085  1.614581e+06\n",
       "2019-12-23  0.002232  1.616856e+05"
      ]
     },
     "execution_count": 73,
     "metadata": {},
     "output_type": "execute_result"
    }
   ],
   "source": [
    "#Historical Prices Dogecoin\n",
    "doge_historical_prices = exchange.fetch_ohlcv(\"DOGE/USD\", \"1d\")\n",
    "doge_historical_prices_df = pd.DataFrame(\n",
    "    doge_historical_prices, columns=[\"timestamp\", \"open\", \"high\", \"low\", \"close\", \"volume\"]\n",
    ")\n",
    "doge_historical_prices_df['Date'] = pd.to_datetime(doge_historical_prices_df['timestamp'], unit='ms')\n",
    "doge_historical_prices_df['doge vol'] = doge_historical_prices_df['volume']\n",
    "doge_hist_prices_df = doge_historical_prices_df.drop(columns=['timestamp','open','high','low','volume'])\n",
    "doge_price = doge_hist_prices_df.set_index('Date')\n",
    "doge_price.head()"
   ]
  },
  {
   "cell_type": "code",
   "execution_count": 72,
   "metadata": {},
   "outputs": [
    {
     "data": {
      "text/html": [
       "<div>\n",
       "<style scoped>\n",
       "    .dataframe tbody tr th:only-of-type {\n",
       "        vertical-align: middle;\n",
       "    }\n",
       "\n",
       "    .dataframe tbody tr th {\n",
       "        vertical-align: top;\n",
       "    }\n",
       "\n",
       "    .dataframe thead th {\n",
       "        text-align: right;\n",
       "    }\n",
       "</style>\n",
       "<table border=\"1\" class=\"dataframe\">\n",
       "  <thead>\n",
       "    <tr style=\"text-align: right;\">\n",
       "      <th></th>\n",
       "      <th>close</th>\n",
       "      <th>ada vol</th>\n",
       "    </tr>\n",
       "    <tr>\n",
       "      <th>Date</th>\n",
       "      <th></th>\n",
       "      <th></th>\n",
       "    </tr>\n",
       "  </thead>\n",
       "  <tbody>\n",
       "    <tr>\n",
       "      <th>2019-06-21</th>\n",
       "      <td>0.089762</td>\n",
       "      <td>6.363689e+06</td>\n",
       "    </tr>\n",
       "    <tr>\n",
       "      <th>2019-06-22</th>\n",
       "      <td>0.093867</td>\n",
       "      <td>1.961449e+07</td>\n",
       "    </tr>\n",
       "    <tr>\n",
       "      <th>2019-06-23</th>\n",
       "      <td>0.096167</td>\n",
       "      <td>1.624481e+07</td>\n",
       "    </tr>\n",
       "    <tr>\n",
       "      <th>2019-06-24</th>\n",
       "      <td>0.097800</td>\n",
       "      <td>7.107311e+06</td>\n",
       "    </tr>\n",
       "    <tr>\n",
       "      <th>2019-06-25</th>\n",
       "      <td>0.095960</td>\n",
       "      <td>9.705137e+06</td>\n",
       "    </tr>\n",
       "  </tbody>\n",
       "</table>\n",
       "</div>"
      ],
      "text/plain": [
       "               close       ada vol\n",
       "Date                              \n",
       "2019-06-21  0.089762  6.363689e+06\n",
       "2019-06-22  0.093867  1.961449e+07\n",
       "2019-06-23  0.096167  1.624481e+07\n",
       "2019-06-24  0.097800  7.107311e+06\n",
       "2019-06-25  0.095960  9.705137e+06"
      ]
     },
     "execution_count": 72,
     "metadata": {},
     "output_type": "execute_result"
    }
   ],
   "source": [
    "#Historical Prices Cardano\n",
    "ada_historical_prices = exchange.fetch_ohlcv(\"ADA/USD\", \"1d\")\n",
    "ada_historical_prices_df = pd.DataFrame(\n",
    "    ada_historical_prices, columns=[\"timestamp\", \"open\", \"high\", \"low\", \"close\", \"volume\"]\n",
    ")\n",
    "ada_historical_prices_df['Date'] = pd.to_datetime(ada_historical_prices_df['timestamp'], unit='ms')\n",
    "ada_historical_prices_df['ada vol'] = ada_historical_prices_df['volume']\n",
    "ada_hist_prices_df = ada_historical_prices_df.drop(columns=['timestamp','open','high','low','volume'])\n",
    "ada_price = ada_hist_prices_df.set_index('Date')\n",
    "ada_price.head()"
   ]
  },
  {
   "cell_type": "code",
   "execution_count": 56,
   "metadata": {},
   "outputs": [
    {
     "data": {
      "text/html": [
       "<div>\n",
       "<style scoped>\n",
       "    .dataframe tbody tr th:only-of-type {\n",
       "        vertical-align: middle;\n",
       "    }\n",
       "\n",
       "    .dataframe tbody tr th {\n",
       "        vertical-align: top;\n",
       "    }\n",
       "\n",
       "    .dataframe thead th {\n",
       "        text-align: right;\n",
       "    }\n",
       "</style>\n",
       "<table border=\"1\" class=\"dataframe\">\n",
       "  <thead>\n",
       "    <tr style=\"text-align: right;\">\n",
       "      <th></th>\n",
       "      <th>close</th>\n",
       "      <th>usdt vol</th>\n",
       "    </tr>\n",
       "    <tr>\n",
       "      <th>Date</th>\n",
       "      <th></th>\n",
       "      <th></th>\n",
       "    </tr>\n",
       "  </thead>\n",
       "  <tbody>\n",
       "    <tr>\n",
       "      <th>2019-06-21</th>\n",
       "      <td>1.0028</td>\n",
       "      <td>3.069168e+06</td>\n",
       "    </tr>\n",
       "    <tr>\n",
       "      <th>2019-06-22</th>\n",
       "      <td>0.9950</td>\n",
       "      <td>5.867149e+06</td>\n",
       "    </tr>\n",
       "    <tr>\n",
       "      <th>2019-06-23</th>\n",
       "      <td>0.9922</td>\n",
       "      <td>3.145166e+06</td>\n",
       "    </tr>\n",
       "    <tr>\n",
       "      <th>2019-06-24</th>\n",
       "      <td>0.9964</td>\n",
       "      <td>1.568689e+06</td>\n",
       "    </tr>\n",
       "    <tr>\n",
       "      <th>2019-06-25</th>\n",
       "      <td>0.9950</td>\n",
       "      <td>2.188271e+06</td>\n",
       "    </tr>\n",
       "  </tbody>\n",
       "</table>\n",
       "</div>"
      ],
      "text/plain": [
       "             close      usdt vol\n",
       "Date                            \n",
       "2019-06-21  1.0028  3.069168e+06\n",
       "2019-06-22  0.9950  5.867149e+06\n",
       "2019-06-23  0.9922  3.145166e+06\n",
       "2019-06-24  0.9964  1.568689e+06\n",
       "2019-06-25  0.9950  2.188271e+06"
      ]
     },
     "execution_count": 56,
     "metadata": {},
     "output_type": "execute_result"
    }
   ],
   "source": [
    "#Historical Prices USDT\n",
    "usdt_historical_prices = exchange.fetch_ohlcv(\"USDT/USD\", \"1d\")\n",
    "usdt_historical_prices_df = pd.DataFrame(\n",
    "    usdt_historical_prices, columns=[\"timestamp\", \"open\", \"high\", \"low\", \"close\", \"volume\"]\n",
    ")\n",
    "usdt_historical_prices_df['Date'] = pd.to_datetime(usdt_historical_prices_df['timestamp'], unit='ms')\n",
    "usdt_historical_prices_df['usdt vol'] = usdt_historical_prices_df['volume']\n",
    "usdt_hist_prices_df = usdt_historical_prices_df.drop(columns=['timestamp','open','high','low','volume'])\n",
    "usdt_price = usdt_hist_prices_df.set_index('Date')\n",
    "usdt_price.head()"
   ]
  },
  {
   "cell_type": "code",
   "execution_count": 58,
   "metadata": {},
   "outputs": [],
   "source": [
    "btc_usdt_price =pd.concat([btc_price,usdt_price],axis='columns',join='inner')\n",
    "btc_usdt_vol = btc_usdt_price.drop(columns=['close'])"
   ]
  },
  {
   "cell_type": "code",
   "execution_count": 59,
   "metadata": {
    "scrolled": true
   },
   "outputs": [],
   "source": [
    "btc_usdt_corr = btc_usdt_vol.corr()"
   ]
  },
  {
   "cell_type": "code",
   "execution_count": 68,
   "metadata": {},
   "outputs": [
    {
     "data": {},
     "metadata": {},
     "output_type": "display_data"
    },
    {
     "data": {
      "application/vnd.holoviews_exec.v0+json": "",
      "text/html": [
       "<div id='1001'>\n",
       "\n",
       "\n",
       "\n",
       "\n",
       "\n",
       "  <div class=\"bk-root\" id=\"53b74dcf-f0bf-4617-8ea4-72409bf0c524\" data-root-id=\"1001\"></div>\n",
       "</div>\n",
       "<script type=\"application/javascript\">(function(root) {\n",
       "  function embed_document(root) {\n",
       "    var docs_json = {\"7b73bc91-d3f5-4466-82ac-836056aab27f\":{\"roots\":{\"references\":[{\"attributes\":{\"callback\":null,\"renderers\":[{\"id\":\"1042\"}],\"tags\":[\"hv_created\"],\"tooltips\":[[\"index\",\"@{index}\"],[\"Variable\",\"@{Variable}\"],[\"value\",\"@{value}\"]]},\"id\":\"1005\",\"type\":\"HoverTool\"},{\"attributes\":{},\"id\":\"1011\",\"type\":\"CategoricalScale\"},{\"attributes\":{},\"id\":\"1016\",\"type\":\"CategoricalTicker\"},{\"attributes\":{\"axis\":{\"id\":\"1015\"},\"grid_line_color\":null,\"ticker\":null},\"id\":\"1017\",\"type\":\"Grid\"},{\"attributes\":{\"factors\":[[\"btc vol\",\"btc vol\"],[\"btc vol\",\"usdt vol\"],[\"usdt vol\",\"btc vol\"],[\"usdt vol\",\"usdt vol\"]],\"tags\":[[[\"index\",\"index\",null],[\"Variable\",\"Variable\",null]]]},\"id\":\"1003\",\"type\":\"FactorRange\"},{\"attributes\":{\"end\":1.079748617966735,\"reset_end\":1.079748617966735,\"reset_start\":0.0,\"tags\":[[[\"value\",\"value\",null]]]},\"id\":\"1004\",\"type\":\"Range1d\"},{\"attributes\":{},\"id\":\"1045\",\"type\":\"CategoricalTickFormatter\"},{\"attributes\":{\"factors\":[\"btc vol\",\"usdt vol\"],\"palette\":[\"#30a2da\",\"#fc4f30\"]},\"id\":\"1035\",\"type\":\"CategoricalColorMapper\"},{\"attributes\":{},\"id\":\"1047\",\"type\":\"BasicTickFormatter\"},{\"attributes\":{\"fill_color\":{\"field\":\"Variable\",\"transform\":{\"id\":\"1035\"}},\"top\":{\"field\":\"value\"},\"width\":{\"value\":0.8},\"x\":{\"field\":\"xoffsets\"}},\"id\":\"1039\",\"type\":\"VBar\"},{\"attributes\":{\"axis_label\":\"\",\"bounds\":\"auto\",\"formatter\":{\"id\":\"1047\"},\"major_label_orientation\":\"horizontal\",\"ticker\":{\"id\":\"1019\"}},\"id\":\"1018\",\"type\":\"LinearAxis\"},{\"attributes\":{},\"id\":\"1019\",\"type\":\"BasicTicker\"},{\"attributes\":{\"axis\":{\"id\":\"1018\"},\"dimension\":1,\"grid_line_color\":null,\"ticker\":null},\"id\":\"1021\",\"type\":\"Grid\"},{\"attributes\":{\"fill_alpha\":{\"value\":0.1},\"fill_color\":{\"field\":\"Variable\",\"transform\":{\"id\":\"1035\"}},\"line_alpha\":{\"value\":0.1},\"top\":{\"field\":\"value\"},\"width\":{\"value\":0.8},\"x\":{\"field\":\"xoffsets\"}},\"id\":\"1040\",\"type\":\"VBar\"},{\"attributes\":{\"fill_alpha\":{\"value\":0.2},\"fill_color\":{\"field\":\"Variable\",\"transform\":{\"id\":\"1035\"}},\"line_alpha\":{\"value\":0.2},\"top\":{\"field\":\"value\"},\"width\":{\"value\":0.8},\"x\":{\"field\":\"xoffsets\"}},\"id\":\"1041\",\"type\":\"VBar\"},{\"attributes\":{\"bottom_units\":\"screen\",\"fill_alpha\":0.5,\"fill_color\":\"lightgrey\",\"left_units\":\"screen\",\"level\":\"overlay\",\"line_alpha\":1.0,\"line_color\":\"black\",\"line_dash\":[4,4],\"line_width\":2,\"right_units\":\"screen\",\"top_units\":\"screen\"},\"id\":\"1027\",\"type\":\"BoxAnnotation\"},{\"attributes\":{\"active_drag\":\"auto\",\"active_inspect\":\"auto\",\"active_multi\":null,\"active_scroll\":\"auto\",\"active_tap\":\"auto\",\"tools\":[{\"id\":\"1005\"},{\"id\":\"1022\"},{\"id\":\"1023\"},{\"id\":\"1024\"},{\"id\":\"1025\"},{\"id\":\"1026\"}]},\"id\":\"1028\",\"type\":\"Toolbar\"},{\"attributes\":{},\"id\":\"1037\",\"type\":\"Selection\"},{\"attributes\":{\"text\":\"\",\"text_color\":{\"value\":\"black\"},\"text_font_size\":{\"value\":\"12pt\"}},\"id\":\"1007\",\"type\":\"Title\"},{\"attributes\":{\"below\":[{\"id\":\"1015\"}],\"center\":[{\"id\":\"1017\"},{\"id\":\"1021\"}],\"left\":[{\"id\":\"1018\"}],\"margin\":[5,5,5,5],\"min_border_bottom\":10,\"min_border_left\":10,\"min_border_right\":10,\"min_border_top\":10,\"plot_height\":300,\"plot_width\":700,\"renderers\":[{\"id\":\"1042\"}],\"sizing_mode\":\"fixed\",\"title\":{\"id\":\"1007\"},\"toolbar\":{\"id\":\"1028\"},\"x_range\":{\"id\":\"1003\"},\"x_scale\":{\"id\":\"1011\"},\"y_range\":{\"id\":\"1004\"},\"y_scale\":{\"id\":\"1013\"}},\"id\":\"1006\",\"subtype\":\"Figure\",\"type\":\"Plot\"},{\"attributes\":{},\"id\":\"1022\",\"type\":\"SaveTool\"},{\"attributes\":{\"margin\":[5,5,5,5],\"name\":\"HSpacer01530\",\"sizing_mode\":\"stretch_width\"},\"id\":\"1064\",\"type\":\"Spacer\"},{\"attributes\":{},\"id\":\"1023\",\"type\":\"PanTool\"},{\"attributes\":{\"children\":[{\"id\":\"1002\"},{\"id\":\"1006\"},{\"id\":\"1064\"}],\"margin\":[0,0,0,0],\"name\":\"Row01525\",\"tags\":[\"embedded\"]},\"id\":\"1001\",\"type\":\"Row\"},{\"attributes\":{},\"id\":\"1026\",\"type\":\"ResetTool\"},{\"attributes\":{},\"id\":\"1024\",\"type\":\"WheelZoomTool\"},{\"attributes\":{\"margin\":[5,5,5,5],\"name\":\"HSpacer01529\",\"sizing_mode\":\"stretch_width\"},\"id\":\"1002\",\"type\":\"Spacer\"},{\"attributes\":{\"data_source\":{\"id\":\"1036\"},\"glyph\":{\"id\":\"1039\"},\"hover_glyph\":null,\"muted_glyph\":{\"id\":\"1041\"},\"nonselection_glyph\":{\"id\":\"1040\"},\"selection_glyph\":null,\"view\":{\"id\":\"1043\"}},\"id\":\"1042\",\"type\":\"GlyphRenderer\"},{\"attributes\":{\"overlay\":{\"id\":\"1027\"}},\"id\":\"1025\",\"type\":\"BoxZoomTool\"},{\"attributes\":{},\"id\":\"1055\",\"type\":\"UnionRenderers\"},{\"attributes\":{\"data\":{\"Variable\":[\"btc vol\",\"btc vol\",\"usdt vol\",\"usdt vol\"],\"index\":[\"btc vol\",\"usdt vol\",\"btc vol\",\"usdt vol\"],\"value\":{\"__ndarray__\":\"AAAAAAAA8D9Si6gN+evJP1KLqA3568k/AAAAAAAA8D8=\",\"dtype\":\"float64\",\"order\":\"little\",\"shape\":[4]},\"xoffsets\":[[\"btc vol\",\"btc vol\"],[\"usdt vol\",\"btc vol\"],[\"btc vol\",\"usdt vol\"],[\"usdt vol\",\"usdt vol\"]]},\"selected\":{\"id\":\"1037\"},\"selection_policy\":{\"id\":\"1055\"}},\"id\":\"1036\",\"type\":\"ColumnDataSource\"},{\"attributes\":{\"source\":{\"id\":\"1036\"}},\"id\":\"1043\",\"type\":\"CDSView\"},{\"attributes\":{},\"id\":\"1013\",\"type\":\"LinearScale\"},{\"attributes\":{\"axis_label\":\"\",\"bounds\":\"auto\",\"formatter\":{\"id\":\"1045\"},\"major_label_orientation\":\"horizontal\",\"ticker\":{\"id\":\"1016\"}},\"id\":\"1015\",\"type\":\"CategoricalAxis\"}],\"root_ids\":[\"1001\"]},\"title\":\"Bokeh Application\",\"version\":\"2.2.3\"}};\n",
       "    var render_items = [{\"docid\":\"7b73bc91-d3f5-4466-82ac-836056aab27f\",\"root_ids\":[\"1001\"],\"roots\":{\"1001\":\"53b74dcf-f0bf-4617-8ea4-72409bf0c524\"}}];\n",
       "    root.Bokeh.embed.embed_items_notebook(docs_json, render_items);\n",
       "  }\n",
       "  if (root.Bokeh !== undefined && root.Bokeh.Panel !== undefined) {\n",
       "    embed_document(root);\n",
       "  } else {\n",
       "    var attempts = 0;\n",
       "    var timer = setInterval(function(root) {\n",
       "      if (root.Bokeh !== undefined && root.Bokeh.Panel !== undefined) {\n",
       "        clearInterval(timer);\n",
       "        embed_document(root);\n",
       "      } else if (document.readyState == \"complete\") {\n",
       "        attempts++;\n",
       "        if (attempts > 100) {\n",
       "          clearInterval(timer);\n",
       "          console.log(\"Bokeh: ERROR: Unable to run BokehJS code because BokehJS library is missing\");\n",
       "        }\n",
       "      }\n",
       "    }, 10, root)\n",
       "  }\n",
       "})(window);</script>"
      ],
      "text/plain": [
       ":Bars   [index,Variable]   (value)"
      ]
     },
     "execution_count": 68,
     "metadata": {
      "application/vnd.holoviews_exec.v0+json": {
       "id": "1001"
      }
     },
     "output_type": "execute_result"
    }
   ],
   "source": [
    "btc_usdt_corr.hvplot(x=)"
   ]
  },
  {
   "cell_type": "code",
   "execution_count": 114,
   "metadata": {},
   "outputs": [],
   "source": [
    "btc_vol = btc_price['btc vol']\n",
    "eth_vol = eth_price['eth vol']\n",
    "ada_vol = ada_price['ada vol']\n",
    "doge_vol = doge_price['doge vol']\n",
    "usdt_vol = usdt_price['usdt vol']\n",
    "total_vol = btc_vol + eth_vol + ada_vol + doge_vol\n",
    "alt_dom = total_vol - btc_vol\n",
    "bitcoin_dom = total_vol - alt_dom\n",
    "price_btc = btc_price['close']"
   ]
  },
  {
   "cell_type": "code",
   "execution_count": 117,
   "metadata": {},
   "outputs": [
    {
     "data": {
      "text/html": [
       "<div>\n",
       "<style scoped>\n",
       "    .dataframe tbody tr th:only-of-type {\n",
       "        vertical-align: middle;\n",
       "    }\n",
       "\n",
       "    .dataframe tbody tr th {\n",
       "        vertical-align: top;\n",
       "    }\n",
       "\n",
       "    .dataframe thead th {\n",
       "        text-align: right;\n",
       "    }\n",
       "</style>\n",
       "<table border=\"1\" class=\"dataframe\">\n",
       "  <thead>\n",
       "    <tr style=\"text-align: right;\">\n",
       "      <th></th>\n",
       "      <th>close</th>\n",
       "      <th>0</th>\n",
       "    </tr>\n",
       "    <tr>\n",
       "      <th>Date</th>\n",
       "      <th></th>\n",
       "      <th></th>\n",
       "    </tr>\n",
       "  </thead>\n",
       "  <tbody>\n",
       "    <tr>\n",
       "      <th>2021-06-05</th>\n",
       "      <td>35534.6</td>\n",
       "      <td>5532.753260</td>\n",
       "    </tr>\n",
       "    <tr>\n",
       "      <th>2021-06-06</th>\n",
       "      <td>35789.0</td>\n",
       "      <td>3187.546401</td>\n",
       "    </tr>\n",
       "    <tr>\n",
       "      <th>2021-06-07</th>\n",
       "      <td>33587.6</td>\n",
       "      <td>6165.920455</td>\n",
       "    </tr>\n",
       "    <tr>\n",
       "      <th>2021-06-08</th>\n",
       "      <td>33420.0</td>\n",
       "      <td>10548.326943</td>\n",
       "    </tr>\n",
       "    <tr>\n",
       "      <th>2021-06-09</th>\n",
       "      <td>32700.0</td>\n",
       "      <td>1076.745614</td>\n",
       "    </tr>\n",
       "  </tbody>\n",
       "</table>\n",
       "</div>"
      ],
      "text/plain": [
       "              close             0\n",
       "Date                             \n",
       "2021-06-05  35534.6   5532.753260\n",
       "2021-06-06  35789.0   3187.546401\n",
       "2021-06-07  33587.6   6165.920455\n",
       "2021-06-08  33420.0  10548.326943\n",
       "2021-06-09  32700.0   1076.745614"
      ]
     },
     "execution_count": 117,
     "metadata": {},
     "output_type": "execute_result"
    }
   ],
   "source": [
    "bitcoin_dom_price =pd.concat([price_btc,bitcoin_dom],axis='columns',join='inner')\n",
    "bitcoin_dom_price.dropna().tail()"
   ]
  },
  {
   "cell_type": "code",
   "execution_count": 118,
   "metadata": {},
   "outputs": [
    {
     "ename": "ValueError",
     "evalue": "String or int arguments are only possible when a DataFrame or an array is provided in the `data_frame` argument. No DataFrame was provided, but argument 'x' is of type str or int.",
     "output_type": "error",
     "traceback": [
      "\u001b[1;31m---------------------------------------------------------------------------\u001b[0m",
      "\u001b[1;31mValueError\u001b[0m                                Traceback (most recent call last)",
      "\u001b[1;32m<ipython-input-118-83cb03d5b2d1>\u001b[0m in \u001b[0;36m<module>\u001b[1;34m\u001b[0m\n\u001b[1;32m----> 1\u001b[1;33m \u001b[0mfig\u001b[0m \u001b[1;33m=\u001b[0m \u001b[0mpx\u001b[0m\u001b[1;33m.\u001b[0m\u001b[0mdensity_heatmap\u001b[0m\u001b[1;33m(\u001b[0m\u001b[0mx\u001b[0m\u001b[1;33m=\u001b[0m\u001b[1;34m'Date'\u001b[0m\u001b[1;33m,\u001b[0m \u001b[0my\u001b[0m\u001b[1;33m=\u001b[0m\u001b[1;34m'close'\u001b[0m\u001b[1;33m)\u001b[0m\u001b[1;33m\u001b[0m\u001b[1;33m\u001b[0m\u001b[0m\n\u001b[0m\u001b[0;32m      2\u001b[0m \u001b[0mfig\u001b[0m\u001b[1;33m.\u001b[0m\u001b[0mshow\u001b[0m\u001b[1;33m(\u001b[0m\u001b[1;33m)\u001b[0m\u001b[1;33m\u001b[0m\u001b[1;33m\u001b[0m\u001b[0m\n",
      "\u001b[1;32m~\\anaconda3\\envs\\pyvizenv\\lib\\site-packages\\plotly\\express\\_chart_types.py\u001b[0m in \u001b[0;36mdensity_heatmap\u001b[1;34m(data_frame, x, y, z, facet_row, facet_col, facet_col_wrap, facet_row_spacing, facet_col_spacing, hover_name, hover_data, animation_frame, animation_group, category_orders, labels, orientation, color_continuous_scale, range_color, color_continuous_midpoint, marginal_x, marginal_y, opacity, log_x, log_y, range_x, range_y, histfunc, histnorm, nbinsx, nbinsy, title, template, width, height)\u001b[0m\n\u001b[0;32m    188\u001b[0m             \u001b[0mnbinsy\u001b[0m\u001b[1;33m=\u001b[0m\u001b[0mnbinsy\u001b[0m\u001b[1;33m,\u001b[0m\u001b[1;33m\u001b[0m\u001b[1;33m\u001b[0m\u001b[0m\n\u001b[0;32m    189\u001b[0m             \u001b[0mxbingroup\u001b[0m\u001b[1;33m=\u001b[0m\u001b[1;34m\"x\"\u001b[0m\u001b[1;33m,\u001b[0m\u001b[1;33m\u001b[0m\u001b[1;33m\u001b[0m\u001b[0m\n\u001b[1;32m--> 190\u001b[1;33m             \u001b[0mybingroup\u001b[0m\u001b[1;33m=\u001b[0m\u001b[1;34m\"y\"\u001b[0m\u001b[1;33m,\u001b[0m\u001b[1;33m\u001b[0m\u001b[1;33m\u001b[0m\u001b[0m\n\u001b[0m\u001b[0;32m    191\u001b[0m         ),\n\u001b[0;32m    192\u001b[0m     )\n",
      "\u001b[1;32m~\\anaconda3\\envs\\pyvizenv\\lib\\site-packages\\plotly\\express\\_core.py\u001b[0m in \u001b[0;36mmake_figure\u001b[1;34m(args, constructor, trace_patch, layout_patch)\u001b[0m\n\u001b[0;32m   1859\u001b[0m     \u001b[0mapply_default_cascade\u001b[0m\u001b[1;33m(\u001b[0m\u001b[0margs\u001b[0m\u001b[1;33m)\u001b[0m\u001b[1;33m\u001b[0m\u001b[1;33m\u001b[0m\u001b[0m\n\u001b[0;32m   1860\u001b[0m \u001b[1;33m\u001b[0m\u001b[0m\n\u001b[1;32m-> 1861\u001b[1;33m     \u001b[0margs\u001b[0m \u001b[1;33m=\u001b[0m \u001b[0mbuild_dataframe\u001b[0m\u001b[1;33m(\u001b[0m\u001b[0margs\u001b[0m\u001b[1;33m,\u001b[0m \u001b[0mconstructor\u001b[0m\u001b[1;33m)\u001b[0m\u001b[1;33m\u001b[0m\u001b[1;33m\u001b[0m\u001b[0m\n\u001b[0m\u001b[0;32m   1862\u001b[0m     \u001b[1;32mif\u001b[0m \u001b[0mconstructor\u001b[0m \u001b[1;32min\u001b[0m \u001b[1;33m[\u001b[0m\u001b[0mgo\u001b[0m\u001b[1;33m.\u001b[0m\u001b[0mTreemap\u001b[0m\u001b[1;33m,\u001b[0m \u001b[0mgo\u001b[0m\u001b[1;33m.\u001b[0m\u001b[0mSunburst\u001b[0m\u001b[1;33m]\u001b[0m \u001b[1;32mand\u001b[0m \u001b[0margs\u001b[0m\u001b[1;33m[\u001b[0m\u001b[1;34m\"path\"\u001b[0m\u001b[1;33m]\u001b[0m \u001b[1;32mis\u001b[0m \u001b[1;32mnot\u001b[0m \u001b[1;32mNone\u001b[0m\u001b[1;33m:\u001b[0m\u001b[1;33m\u001b[0m\u001b[1;33m\u001b[0m\u001b[0m\n\u001b[0;32m   1863\u001b[0m         \u001b[0margs\u001b[0m \u001b[1;33m=\u001b[0m \u001b[0mprocess_dataframe_hierarchy\u001b[0m\u001b[1;33m(\u001b[0m\u001b[0margs\u001b[0m\u001b[1;33m)\u001b[0m\u001b[1;33m\u001b[0m\u001b[1;33m\u001b[0m\u001b[0m\n",
      "\u001b[1;32m~\\anaconda3\\envs\\pyvizenv\\lib\\site-packages\\plotly\\express\\_core.py\u001b[0m in \u001b[0;36mbuild_dataframe\u001b[1;34m(args, constructor)\u001b[0m\n\u001b[0;32m   1376\u001b[0m \u001b[1;33m\u001b[0m\u001b[0m\n\u001b[0;32m   1377\u001b[0m     df_output, wide_id_vars = process_args_into_dataframe(\n\u001b[1;32m-> 1378\u001b[1;33m         \u001b[0margs\u001b[0m\u001b[1;33m,\u001b[0m \u001b[0mwide_mode\u001b[0m\u001b[1;33m,\u001b[0m \u001b[0mvar_name\u001b[0m\u001b[1;33m,\u001b[0m \u001b[0mvalue_name\u001b[0m\u001b[1;33m\u001b[0m\u001b[1;33m\u001b[0m\u001b[0m\n\u001b[0m\u001b[0;32m   1379\u001b[0m     )\n\u001b[0;32m   1380\u001b[0m \u001b[1;33m\u001b[0m\u001b[0m\n",
      "\u001b[1;32m~\\anaconda3\\envs\\pyvizenv\\lib\\site-packages\\plotly\\express\\_core.py\u001b[0m in \u001b[0;36mprocess_args_into_dataframe\u001b[1;34m(args, wide_mode, var_name, value_name)\u001b[0m\n\u001b[0;32m   1167\u001b[0m                         \u001b[1;34m\"DataFrame or an array is provided in the `data_frame` \"\u001b[0m\u001b[1;33m\u001b[0m\u001b[1;33m\u001b[0m\u001b[0m\n\u001b[0;32m   1168\u001b[0m                         \u001b[1;34m\"argument. No DataFrame was provided, but argument \"\u001b[0m\u001b[1;33m\u001b[0m\u001b[1;33m\u001b[0m\u001b[0m\n\u001b[1;32m-> 1169\u001b[1;33m                         \u001b[1;34m\"'%s' is of type str or int.\"\u001b[0m \u001b[1;33m%\u001b[0m \u001b[0mfield\u001b[0m\u001b[1;33m\u001b[0m\u001b[1;33m\u001b[0m\u001b[0m\n\u001b[0m\u001b[0;32m   1170\u001b[0m                     )\n\u001b[0;32m   1171\u001b[0m                 \u001b[1;31m# Check validity of column name\u001b[0m\u001b[1;33m\u001b[0m\u001b[1;33m\u001b[0m\u001b[1;33m\u001b[0m\u001b[0m\n",
      "\u001b[1;31mValueError\u001b[0m: String or int arguments are only possible when a DataFrame or an array is provided in the `data_frame` argument. No DataFrame was provided, but argument 'x' is of type str or int."
     ]
    }
   ],
   "source": [
    "fig = px.density_heatmap(x='Date', y='close')\n",
    "fig.show()"
   ]
  },
  {
   "cell_type": "code",
   "execution_count": 109,
   "metadata": {},
   "outputs": [
    {
     "data": {
      "text/plain": [
       "Date\n",
       "2021-06-05    9.726625e+07\n",
       "2021-06-06    4.183196e+07\n",
       "2021-06-07    1.256877e+08\n",
       "2021-06-08    2.039303e+08\n",
       "2021-06-09    1.504365e+07\n",
       "dtype: float64"
      ]
     },
     "execution_count": 109,
     "metadata": {},
     "output_type": "execute_result"
    }
   ],
   "source": [
    "total_vol = btc_vol + eth_vol + ada_vol + doge_vol\n",
    "total_vol.dropna().tail()"
   ]
  },
  {
   "cell_type": "code",
   "execution_count": 110,
   "metadata": {},
   "outputs": [
    {
     "data": {
      "text/plain": [
       "Date\n",
       "2021-06-05    9.726072e+07\n",
       "2021-06-06    4.182877e+07\n",
       "2021-06-07    1.256815e+08\n",
       "2021-06-08    2.039198e+08\n",
       "2021-06-09    1.504257e+07\n",
       "dtype: float64"
      ]
     },
     "execution_count": 110,
     "metadata": {},
     "output_type": "execute_result"
    }
   ],
   "source": [
    "alt_dom = total_vol - btc_vol\n",
    "alt_dom.dropna().tail()"
   ]
  },
  {
   "cell_type": "code",
   "execution_count": 112,
   "metadata": {},
   "outputs": [
    {
     "data": {
      "text/plain": [
       "Date\n",
       "2021-06-05     5532.753260\n",
       "2021-06-06     3187.546401\n",
       "2021-06-07     6165.920455\n",
       "2021-06-08    10548.326943\n",
       "2021-06-09     1076.745614\n",
       "dtype: float64"
      ]
     },
     "execution_count": 112,
     "metadata": {},
     "output_type": "execute_result"
    }
   ],
   "source": [
    "bitcoin_dom = total_vol - alt_dom\n",
    "bitcoin_dom.dropna().tail()"
   ]
  },
  {
   "cell_type": "code",
   "execution_count": 113,
   "metadata": {},
   "outputs": [
    {
     "data": {
      "text/plain": [
       "Date\n",
       "2021-06-05     5532.753260\n",
       "2021-06-06     3187.546401\n",
       "2021-06-07     6165.920455\n",
       "2021-06-08    10548.326943\n",
       "2021-06-09     1076.745614\n",
       "Name: btc vol, dtype: float64"
      ]
     },
     "execution_count": 113,
     "metadata": {},
     "output_type": "execute_result"
    }
   ],
   "source": []
  },
  {
   "cell_type": "code",
   "execution_count": null,
   "metadata": {},
   "outputs": [],
   "source": []
  }
 ],
 "metadata": {
  "kernelspec": {
   "display_name": "Python [conda env:pyvizenv] *",
   "language": "python",
   "name": "conda-env-pyvizenv-py"
  },
  "language_info": {
   "codemirror_mode": {
    "name": "ipython",
    "version": 3
   },
   "file_extension": ".py",
   "mimetype": "text/x-python",
   "name": "python",
   "nbconvert_exporter": "python",
   "pygments_lexer": "ipython3",
   "version": "3.7.9"
  }
 },
 "nbformat": 4,
 "nbformat_minor": 4
}
