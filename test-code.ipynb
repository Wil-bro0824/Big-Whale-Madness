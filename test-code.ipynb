{
 "cells": [
  {
   "cell_type": "code",

   "metadata": {},
   "outputs": [
    {
     "name": "stderr",
     "output_type": "stream",
     "text": [
      "WARNING:param.panel_extension: A HoloViz extension was loaded previously. This means the extension is already initialized and the following Panel extensions could not be properly loaded: ['plotly']. If you are loading custom extensions with pn.extension(...) ensure that this is called before any other HoloViz extension such as hvPlot or HoloViews.\n"
     ]
    },
    {
     "data": {
      "text/plain": [
       "True"
      ]
     },
     "execution_count": 253,
     "metadata": {},
     "output_type": "execute_result"
    }
   ],
   "source": [
    "import panel as pn\n",
    "import ccxt\n",
    "from datetime import datetime as dt\n",
    "pn.extension('plotly')\n",
    "load_dotenv()"
   ]
  },
  {
   "cell_type": "code",

    "name = input(\"Hello, What is your name? \") \n",
    "print(\"Hi!\", name) \n",
    "print(\"Welcome to our Crypto data set.\") \n",
    "print(\"Amongst our research and investing in both the stock market and crypto markets, \\\n",
    "we seek to find a patern of liquidity flow within crypto exchanges during \\\n",
    "times of volatility.\") \n",
    "answer = input(\"Are you familar with crypto currency either through personal means or media?\")\n",
    "if answer == \"Yes\" or \"yes\": \n",
    "    input(\"Are you currently or have you invested in crypto currency?\") \n",
    "if answer == \"Yes\" or \"yes\": \n",
    "    print(\"Welcome\", name + \" We hope the data we chart can help both current investors and anyone interested in either \\\n",
    "learning more about crypto exchange flow or investing themeselves. Enjoy our exchange flow data\")\n",
    "elif answer == \"No\" or \"no\": \n",
    "    print(\"Welcome\", name + \" We hope the data we chart can help both current investors and anyone interested in either \\\n",

   ]
  },
  {
   "cell_type": "code",

   "source": [
    "#Coin Market Cap API\n",
    "cmc_api = os.getenv('CMC_API_KEY')\n",
    "cmc = CoinMarketCapAPI(cmc_api)\n",
    "global_quote = cmc.globalmetrics_quotes_latest()\n",
    "global_df = pd.DataFrame(global_quote.data)\n",
    "global_df"
   ]
  },
  {
   "cell_type": "code",
   "execution_count": 256,
   "metadata": {},
   "outputs": [],
   "source": [
    "#Data Map ID CMC\n",
    "data_id_map = cmc.cryptocurrency_map()\n",
    "data_idmap = pd.DataFrame(data_id_map.data)\n",
    "data_idmap_df = data_idmap.set_index('rank')\n",
    "idmap_data = data_idmap_df.sort_index(ascending=True)\n",
    "#Current Price for BTC,ETH,ADA\n",
    "eth_data_quote = cmc.cryptocurrency_quotes_latest(symbol='ETH', convert='USD')\n",
    "btc_data_quote = cmc.cryptocurrency_quotes_latest(symbol='BTC', convert='USD')\n",
    "doge_data_quote = cmc.cryptocurrency_quotes_latest(symbol='DOGE', convert='USD')\n",
    "ada_data_quote = cmc.cryptocurrency_quotes_latest(symbol='ADA', convert='USD')\n",
    "eth_data_quote_df = pd.DataFrame(eth_data_quote.data)\n",
    "btc_data_quote_df = pd.DataFrame(btc_data_quote.data)\n",
    "doge_data_quote_df = pd.DataFrame(doge_data_quote.data)\n",
    "ada_data_quote_df = pd.DataFrame(ada_data_quote.data)\n",
    "eth_df = eth_data_quote_df.T\n",
    "btc_df = btc_data_quote_df.T\n",
    "doge_df = doge_data_quote_df.T\n",
    "ada_df = ada_data_quote_df.T"
   ]
  },
  {
   "cell_type": "code",
   "execution_count": 257,
   "metadata": {
    "scrolled": true
   },
   "outputs": [],
   "source": [
    "#Current Price for BTC,ETH,DOGE,ADA\n",
    "eth_current_price = eth_df['quote']['ETH']['USD']['price']\n",
    "btc_current_price = btc_df['quote']['BTC']['USD']['price']\n",
    "doge_current_price = doge_df['quote']['DOGE']['USD']['price']\n",
    "ada_current_price = ada_df['quote']['ADA']['USD']['price']"
   ]
  },
  {
   "cell_type": "code",
   "execution_count": 258,
   "metadata": {},
   "outputs": [],
   "source": [
    "btc_dom= global_df['btc_dominance']\n",
    "stablecoin_mktcap= global_df['stablecoin_market_cap']\n",
    "deriv_pctchange= global_df['derivatives_24h_percentage_change']\n",
    "total_market_cap =global_df['quote']['USD']['total_market_cap']\n",
    "altcoin_mktcap = global_df['quote']['USD']['altcoin_market_cap']\n",
    "last_updated = global_df['quote']['USD']['last_updated']"
   ]
  },
  {
   "cell_type": "code",

   "source": [
    "#Historical Prices USDT\n",
    "usdt_historical_prices = exchange.fetch_ohlcv(\"USDT/USD\", \"1d\")\n",
    "usdt_historical_prices_df = pd.DataFrame(\n",
    "    usdt_historical_prices, columns=[\"timestamp\", \"open\", \"high\", \"low\", \"close\", \"volume\"]\n",
    ")\n",
    "usdt_historical_prices_df['Date'] = pd.to_datetime(usdt_historical_prices_df['timestamp'], unit='ms')\n",
    "usdt_hist_prices_df = usdt_historical_prices_df.drop(columns=['timestamp','open','high','low'])\n",
    "usdt_price = usdt_hist_prices_df.set_index('Date')\n",
    "usdt_price.head()"
   ]
  },
  {
   "cell_type": "code",
   "execution_count": null,
   "metadata": {},
   "outputs": [],
   "source": []
  }
 ],
 "metadata": {
  "kernelspec": {
   "display_name": "Python [conda env:pyvizenv] *",
   "language": "python",
   "name": "conda-env-pyvizenv-py"
  },
  "language_info": {
   "codemirror_mode": {
    "name": "ipython",
    "version": 3
   },
   "file_extension": ".py",
   "mimetype": "text/x-python",
   "name": "python",
   "nbconvert_exporter": "python",
   "pygments_lexer": "ipython3",
   "version": "3.7.10"
  }
 },
 "nbformat": 4,
 "nbformat_minor": 4
}
